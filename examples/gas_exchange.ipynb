{
 "cells": [
  {
   "cell_type": "markdown",
   "metadata": {
    "id": "1IMZItE0eBtw"
   },
   "source": [
    "# gasex-python\n",
    "\n",
    "gasex-python is a Python toolbox for calculating air-sea gas exchange. The core scripts are contained in the module \"gasex\".\n",
    "\n",
    "Here, we are using a platform called Google Colab, which is free and allows you to run Python without installing it locally on your computer. Note that to run a cell you need to press SHIFT+ENTER. To edit a cell, you just need to double-click on it. The first few steps of this notebook are there specifically to set up the Google Colab environment, so if you're running this notebook locally on your computer, skip to the cell containing package imports and run from there:\n",
    "```bash\n",
    "import os\n",
    "import sys\n",
    "[...]\n",
    "```\n",
    "\n",
    "This Google Colab notebook and the repository containing it has “Read Only” access. In order to be able to modify the notebook and modify the code, you need to:\n",
    "1. Save a copy of the gasex-python Github repository in your Google Drive\n",
    "2. Navigate to the gasex-python folder in your Google Drive. Ensure that it contains the folder titled \"gasex\" as well as the \"examples\" folder containing this notebook.\n",
    "3. If you have never used Google Colab before, you need to connect Google Colab to your Google Drive. To do that, double-click on your copy of this notebook, at the top of the page click on “Connect More Apps” and choose “Colab”. Sometimes, you need to load the webpage a few times before you see Google Colab in the app choices.\n",
    "\n",
    "First, run the cell below to install the necessary packages in this Google Colab environment (this may take a couple of minutes)."
   ]
  },
  {
   "cell_type": "code",
   "execution_count": 1,
   "metadata": {
    "id": "eit8bVnkd4pg"
   },
   "outputs": [],
   "source": [
    "%%capture\n",
    "!pip install functools numpy __future__ pandas matplotlib os sys\n",
    "!pip install gsw"
   ]
  },
  {
   "cell_type": "markdown",
   "metadata": {
    "id": "EstoodkAhIng"
   },
   "source": [
    "To give this notebook access to Google Drive and the example data, run the cell below and follow the instructions to log in:"
   ]
  },
  {
   "cell_type": "code",
   "execution_count": 22,
   "metadata": {
    "colab": {
     "base_uri": "https://localhost:8080/"
    },
    "id": "QksB5egNhB0T",
    "outputId": "ffe2d31f-b690-4149-e727-aac34428b984"
   },
   "outputs": [
    {
     "name": "stdout",
     "output_type": "stream",
     "text": [
      "Drive already mounted at /content/drive/; to attempt to forcibly remount, call drive.mount(\"/content/drive/\", force_remount=True).\n"
     ]
    }
   ],
   "source": [
    "from google.colab import drive\n",
    "drive.mount('/content/drive/')"
   ]
  },
  {
   "cell_type": "markdown",
   "metadata": {
    "id": "yM2NbHfWhZfj"
   },
   "source": [
    "Now, _modify_ the text in quotes below, after cd, so that it reflects where you've saved gasex-python in your Drive:"
   ]
  },
  {
   "cell_type": "code",
   "execution_count": 3,
   "metadata": {
    "colab": {
     "base_uri": "https://localhost:8080/"
    },
    "id": "rNhry0JLhRTX",
    "outputId": "1f9e461e-aa3b-4145-8045-aadee1333861"
   },
   "outputs": [
    {
     "name": "stdout",
     "output_type": "stream",
     "text": [
      "/content/drive/MyDrive/gasex-python/examples\n"
     ]
    }
   ],
   "source": [
    "cd \"drive/MyDrive/gasex-python/examples\""
   ]
  },
  {
   "cell_type": "markdown",
   "metadata": {
    "id": "8VgZ1O_bre2q"
   },
   "source": [
    "The next cell adds the gasex module to the current working directory and imports the key gas exchange functions (\"L13\" and \"fsa\"). If you're running this notebook locally from your computer, instead of with Google Colaboratory, start here:"
   ]
  },
  {
   "cell_type": "code",
   "execution_count": 1,
   "metadata": {
    "id": "RkTpHIxKhXD-"
   },
   "outputs": [],
   "source": [
    "import os\n",
    "import sys\n",
    "gasex_path = os.path.abspath(os.path.join('..'))\n",
    "if gasex_path not in sys.path:\n",
    "    sys.path.append(gasex_path)\n",
    "from gasex.airsea import L13, fsa\n",
    "import pandas as pd\n",
    "import gsw"
   ]
  },
  {
   "cell_type": "markdown",
   "metadata": {
    "id": "5o4Ojw9qryHR"
   },
   "source": [
    "## Example 1: oxygen gas exchange\n",
    "Calculate with the Liang et al., 2013 parameterization:"
   ]
  },
  {
   "cell_type": "code",
   "execution_count": 2,
   "metadata": {
    "colab": {
     "base_uri": "https://localhost:8080/"
    },
    "id": "HBzQTC7aqvV3",
    "outputId": "d21f5138-3611-4366-9d7c-43a5afb9e128"
   },
   "outputs": [
    {
     "data": {
      "text/plain": [
       "(-1.255588412703695e-06,\n",
       " 3.0585299963868893e-09,\n",
       " -2.0959476329210157e-07,\n",
       " 0.0014842812387608987,\n",
       " 1.8463760708259574e-05)"
      ]
     },
     "execution_count": 2,
     "metadata": {},
     "output_type": "execute_result"
    }
   ],
   "source": [
    "L13(350*1e-3, 5, 35, 10, gas=\"O2\")"
   ]
  },
  {
   "cell_type": "code",
   "execution_count": 3,
   "metadata": {
    "colab": {
     "base_uri": "https://localhost:8080/"
    },
    "id": "oh-Oj3g7CKvJ",
    "outputId": "b35f96cf-22b1-44c7-8fd6-ecb9ae2d26f4"
   },
   "outputs": [
    {
     "name": "stdout",
     "output_type": "stream",
     "text": [
      "Fd =  -1.255588412703695e-06 mol m-2 s-1\n",
      "Fc =  3.0585299963868893e-09 mol m-2 s-1\n",
      "Fp =  -2.0959476329210157e-07 mol m-2 s-1\n",
      "Deq =  0.0014842812387608987\n",
      "k =  1.8463760708259574e-05 m s-1\n",
      "Fd + Fc + Fp =  -1.4621246459994098e-06 mol m-2 s-1\n"
     ]
    }
   ],
   "source": [
    "# let's break it down:\n",
    "(Fd,Fc,Fp,Deq,k) = L13(350*1e-3, # gas concentration in mmol/m3\n",
    "    5, # wind speed in m/s\n",
    "    35, # practical salinity in practical salinity units\n",
    "    10, # potential temperature in degrees C\n",
    "    gas=\"O2\" # gas\n",
    "    )\n",
    "\n",
    "# print outputs\n",
    "print(\"Fd = \", Fd, \"mol m-2 s-1\") # diffusive flux (positive = into ocean; mol m-2 s-1)\n",
    "print(\"Fc = \", Fc, \"mol m-2 s-1\") # flux from fully collapsing small bubbles (mol m-2 s-1)\n",
    "print(\"Fp = \", Fp, \"mol m-2 s-1\") # flux from partially collapsing large bubbles  (mol m-2 s-1)\n",
    "print(\"Deq = \", Deq) # equilibrium supersaturation (unitless, %sat/100)\n",
    "print(\"k = \", k, \"m s-1\") # diffusive gas transfer velocity (m s-1)\n",
    "print(\"Fd + Fc + Fp = \", Fd + Fc + Fp, \"mol m-2 s-1\") # total flux (mol m-2 s-1)"
   ]
  },
  {
   "cell_type": "markdown",
   "metadata": {
    "id": "HsCfGsMysGpM"
   },
   "source": [
    "You can find out more about a function by typing a question mark in front of it:"
   ]
  },
  {
   "cell_type": "code",
   "execution_count": 4,
   "metadata": {
    "id": "kQzS6nV3rPWE"
   },
   "outputs": [],
   "source": [
    "?L13"
   ]
  },
  {
   "cell_type": "markdown",
   "metadata": {
    "id": "vD0hEdUqtUvg"
   },
   "source": [
    "Calculate with the Wanninkhof et al., 2014 parameterization. Note that the sign convention of Wanninkhof et al., 2014 is opposite to that of Liang et al., 2013:"
   ]
  },
  {
   "cell_type": "code",
   "execution_count": 5,
   "metadata": {
    "colab": {
     "base_uri": "https://localhost:8080/"
    },
    "id": "yUeajzK4sLZx",
    "outputId": "763392f6-1574-4174-91d8-8be531a4fa44"
   },
   "outputs": [
    {
     "data": {
      "text/plain": [
       "3.966145419728414e-06"
      ]
     },
     "execution_count": 5,
     "metadata": {},
     "output_type": "execute_result"
    }
   ],
   "source": [
    "fsa(350*1e-3, 10, 35, 10, gas=\"O2\", param='W14')"
   ]
  },
  {
   "cell_type": "markdown",
   "metadata": {
    "id": "Txg3cvZIvNTm"
   },
   "source": [
    "## Example 2: nitrous oxide gas exchange\n",
    "Calculate with the Liang et al., 2013 parameterization:"
   ]
  },
  {
   "cell_type": "code",
   "execution_count": 6,
   "metadata": {
    "colab": {
     "base_uri": "https://localhost:8080/"
    },
    "id": "D9C_dRUpuRIp",
    "outputId": "062e0f09-8c95-46c1-b819-b090f01e4089"
   },
   "outputs": [
    {
     "name": "stdout",
     "output_type": "stream",
     "text": [
      "Fd =  -2.888498915956542 umol m-2 day-1\n",
      "Fc =  0.0004244940473749834 umol m-2 day-1\n",
      "Fp =  -0.45710514508569855 umol m-2 day-1\n",
      "Deq =  0.0009693558952097625\n",
      "k =  1.413938875581725 m day-1\n",
      "Fd + Fc + Fp =  -3.3451795669948656 umol m-2 day-1\n"
     ]
    }
   ],
   "source": [
    "(Fd,Fc,Fp,Deq,k) = L13(13e-6, # gas concentration in mmol/m3\n",
    "    5, # wind speed in m/s\n",
    "    35, # practical salinity in practical salinity units\n",
    "    10, # potential temperature in degrees C\n",
    "    gas=\"N2O\", # gas\n",
    "    chi_atm=3.37e-7 # atmospheric mixing ratio (must be specified for N2O)\n",
    "    )\n",
    "\n",
    "# print outputs\n",
    "print(\"Fd = \", Fd*86400*1e6, \"umol m-2 day-1\") # diffusive flux (positive = into ocean; convert to umol m-2 day-1)\n",
    "print(\"Fc = \", Fc*86400*1e6, \"umol m-2 day-1\") # flux from fully collapsing small bubbles (convert to umol m-2 day-1)\n",
    "print(\"Fp = \", Fp*86400*1e6, \"umol m-2 day-1\") # flux from partially collapsing large bubbles  (convert to umol m-2 day-1)\n",
    "print(\"Deq = \", Deq) # equilibrium supersaturation (unitless, %sat/100)\n",
    "print(\"k = \", k*86400, \"m day-1\") # diffusive gas transfer velocity (m s-1)\n",
    "print(\"Fd + Fc + Fp = \", (Fd + Fc + Fp)*86400*1e6, \"umol m-2 day-1\") # total flux (umol m-2 day-1)"
   ]
  },
  {
   "cell_type": "markdown",
   "metadata": {
    "id": "K77J8TCuz-LR"
   },
   "source": [
    "Calculate with the Wanninkhof et al., 2014 parameterization. Note that the sign convention of Wanninkhof et al., 2014 is opposite to that of Liang et al., 2013:"
   ]
  },
  {
   "cell_type": "code",
   "execution_count": 7,
   "metadata": {
    "colab": {
     "base_uri": "https://localhost:8080/"
    },
    "id": "5CbcOd_yzNEG",
    "outputId": "bdbcee88-8eb7-4609-a9fa-11be60ea7b2d"
   },
   "outputs": [
    {
     "name": "stdout",
     "output_type": "stream",
     "text": [
      "F =  2.2729420665443403 umol m-2 day-1\n"
     ]
    }
   ],
   "source": [
    "F = fsa(13e-6, # gas concentration in mmol/m3\n",
    "    5, # wind speed in m/s\n",
    "    35, # practical salinity in practical salinity units\n",
    "    10, # potential temperature in degrees C\n",
    "    gas=\"N2O\", # gas\n",
    "    chi_atm=3.37e-7 # atmospheric mixing ratio (must be specified for N2O)\n",
    "    )\n",
    "\n",
    "# print outputs\n",
    "print(\"F = \", F*86400*1e6, \"umol m-2 day-1\") # air sea gas flux (positive = out of ocean; convert to umol m-2 day-1)"
   ]
  },
  {
   "cell_type": "markdown",
   "metadata": {
    "id": "ebU902QB0BCN"
   },
   "source": [
    "## Example 3: import data and calculate nitrous oxide gas flux\n",
    "Read in data from Kelly et al. (2021) (https://doi.org/10.1029/2020GB006637) and calculate air-sea N2O gas flux."
   ]
  },
  {
   "cell_type": "code",
   "execution_count": 8,
   "metadata": {
    "colab": {
     "base_uri": "https://localhost:8080/",
     "height": 626
    },
    "id": "7c94VNahz3r5",
    "outputId": "035ef550-bb84-4532-a5df-d79ea8e3b00c"
   },
   "outputs": [
    {
     "data": {
      "text/html": [
       "<div>\n",
       "<style scoped>\n",
       "    .dataframe tbody tr th:only-of-type {\n",
       "        vertical-align: middle;\n",
       "    }\n",
       "\n",
       "    .dataframe tbody tr th {\n",
       "        vertical-align: top;\n",
       "    }\n",
       "\n",
       "    .dataframe thead th {\n",
       "        text-align: right;\n",
       "    }\n",
       "</style>\n",
       "<table border=\"1\" class=\"dataframe\">\n",
       "  <thead>\n",
       "    <tr style=\"text-align: right;\">\n",
       "      <th></th>\n",
       "      <th>Station</th>\n",
       "      <th>Cruise</th>\n",
       "      <th>Date</th>\n",
       "      <th>Latitude [N]</th>\n",
       "      <th>Longitude [E]</th>\n",
       "      <th>CTD_Pressure [db]</th>\n",
       "      <th>CTD_Depth [m]</th>\n",
       "      <th>Sigma_theta [kg/m3]</th>\n",
       "      <th>Salinity [psu]</th>\n",
       "      <th>Temperature [C]</th>\n",
       "      <th>Temperature [K]</th>\n",
       "      <th>N2O [nM]</th>\n",
       "      <th>XN2O [ppb]</th>\n",
       "      <th>monthlymean_SLP [atm]</th>\n",
       "      <th>monthlymean_U10 [m/s]</th>\n",
       "      <th>pref</th>\n",
       "      <th>SA</th>\n",
       "      <th>pt</th>\n",
       "      <th>N2O [mmol/m3]</th>\n",
       "      <th>XN2O [mol/mol]</th>\n",
       "    </tr>\n",
       "  </thead>\n",
       "  <tbody>\n",
       "    <tr>\n",
       "      <th>0</th>\n",
       "      <td>PS2</td>\n",
       "      <td>SR1805</td>\n",
       "      <td>Mar 27 2018</td>\n",
       "      <td>15.76666</td>\n",
       "      <td>255.000333</td>\n",
       "      <td>4.237</td>\n",
       "      <td>4.212</td>\n",
       "      <td>21.7962</td>\n",
       "      <td>34.1808</td>\n",
       "      <td>27.9473</td>\n",
       "      <td>301.0973</td>\n",
       "      <td>11.061920</td>\n",
       "      <td>331.00</td>\n",
       "      <td>0.998813</td>\n",
       "      <td>2.539497</td>\n",
       "      <td>0</td>\n",
       "      <td>34.342173</td>\n",
       "      <td>27.946305</td>\n",
       "      <td>0.000011</td>\n",
       "      <td>3.310000e-07</td>\n",
       "    </tr>\n",
       "    <tr>\n",
       "      <th>1</th>\n",
       "      <td>PS3</td>\n",
       "      <td>SR1805</td>\n",
       "      <td>Apr 04 2018</td>\n",
       "      <td>17.68336</td>\n",
       "      <td>257.650000</td>\n",
       "      <td>2.624</td>\n",
       "      <td>2.608</td>\n",
       "      <td>23.2343</td>\n",
       "      <td>34.5530</td>\n",
       "      <td>24.2318</td>\n",
       "      <td>297.3818</td>\n",
       "      <td>67.495099</td>\n",
       "      <td>331.59</td>\n",
       "      <td>0.998999</td>\n",
       "      <td>1.454974</td>\n",
       "      <td>0</td>\n",
       "      <td>34.716142</td>\n",
       "      <td>24.231245</td>\n",
       "      <td>0.000067</td>\n",
       "      <td>3.315900e-07</td>\n",
       "    </tr>\n",
       "    <tr>\n",
       "      <th>2</th>\n",
       "      <td>T1</td>\n",
       "      <td>SR1805</td>\n",
       "      <td>Mar 24 2018</td>\n",
       "      <td>12.50774</td>\n",
       "      <td>250.390000</td>\n",
       "      <td>3.000</td>\n",
       "      <td>2.983</td>\n",
       "      <td>21.2154</td>\n",
       "      <td>33.6533</td>\n",
       "      <td>28.5108</td>\n",
       "      <td>301.6608</td>\n",
       "      <td>8.559563</td>\n",
       "      <td>331.00</td>\n",
       "      <td>0.998801</td>\n",
       "      <td>5.310382</td>\n",
       "      <td>0</td>\n",
       "      <td>33.812175</td>\n",
       "      <td>28.510086</td>\n",
       "      <td>0.000009</td>\n",
       "      <td>3.310000e-07</td>\n",
       "    </tr>\n",
       "    <tr>\n",
       "      <th>3</th>\n",
       "      <td>T2</td>\n",
       "      <td>SR1805</td>\n",
       "      <td>Mar 25 2018</td>\n",
       "      <td>14.00732</td>\n",
       "      <td>252.499500</td>\n",
       "      <td>2.667</td>\n",
       "      <td>2.651</td>\n",
       "      <td>21.3333</td>\n",
       "      <td>33.7303</td>\n",
       "      <td>28.3276</td>\n",
       "      <td>301.4776</td>\n",
       "      <td>10.257601</td>\n",
       "      <td>331.00</td>\n",
       "      <td>0.998914</td>\n",
       "      <td>3.953975</td>\n",
       "      <td>0</td>\n",
       "      <td>33.889528</td>\n",
       "      <td>28.326968</td>\n",
       "      <td>0.000010</td>\n",
       "      <td>3.310000e-07</td>\n",
       "    </tr>\n",
       "    <tr>\n",
       "      <th>4</th>\n",
       "      <td>T3</td>\n",
       "      <td>SR1805</td>\n",
       "      <td>Mar 26 2018</td>\n",
       "      <td>15.11490</td>\n",
       "      <td>254.068333</td>\n",
       "      <td>3.262</td>\n",
       "      <td>3.243</td>\n",
       "      <td>21.1715</td>\n",
       "      <td>33.7075</td>\n",
       "      <td>28.7671</td>\n",
       "      <td>301.9171</td>\n",
       "      <td>10.355202</td>\n",
       "      <td>331.00</td>\n",
       "      <td>0.998905</td>\n",
       "      <td>2.685918</td>\n",
       "      <td>0</td>\n",
       "      <td>33.866629</td>\n",
       "      <td>28.766319</td>\n",
       "      <td>0.000010</td>\n",
       "      <td>3.310000e-07</td>\n",
       "    </tr>\n",
       "    <tr>\n",
       "      <th>5</th>\n",
       "      <td>T4</td>\n",
       "      <td>SR1805</td>\n",
       "      <td>Apr 04 2018</td>\n",
       "      <td>16.32997</td>\n",
       "      <td>255.806667</td>\n",
       "      <td>2.374</td>\n",
       "      <td>2.360</td>\n",
       "      <td>22.2228</td>\n",
       "      <td>34.4564</td>\n",
       "      <td>27.2680</td>\n",
       "      <td>300.4180</td>\n",
       "      <td>10.892172</td>\n",
       "      <td>331.59</td>\n",
       "      <td>0.999047</td>\n",
       "      <td>2.315721</td>\n",
       "      <td>0</td>\n",
       "      <td>34.619066</td>\n",
       "      <td>27.267452</td>\n",
       "      <td>0.000011</td>\n",
       "      <td>3.315900e-07</td>\n",
       "    </tr>\n",
       "    <tr>\n",
       "      <th>6</th>\n",
       "      <td>T5</td>\n",
       "      <td>SR1805</td>\n",
       "      <td>Apr 04 2018</td>\n",
       "      <td>16.85822</td>\n",
       "      <td>256.554000</td>\n",
       "      <td>5.762</td>\n",
       "      <td>5.728</td>\n",
       "      <td>22.2092</td>\n",
       "      <td>34.3444</td>\n",
       "      <td>27.0480</td>\n",
       "      <td>300.1980</td>\n",
       "      <td>11.695256</td>\n",
       "      <td>331.59</td>\n",
       "      <td>0.998872</td>\n",
       "      <td>2.847984</td>\n",
       "      <td>0</td>\n",
       "      <td>34.506566</td>\n",
       "      <td>27.046679</td>\n",
       "      <td>0.000012</td>\n",
       "      <td>3.315900e-07</td>\n",
       "    </tr>\n",
       "    <tr>\n",
       "      <th>7</th>\n",
       "      <td>T6</td>\n",
       "      <td>SR1805</td>\n",
       "      <td>2018-04-01 00:00:00</td>\n",
       "      <td>17.33186</td>\n",
       "      <td>257.191333</td>\n",
       "      <td>2.719</td>\n",
       "      <td>2.703</td>\n",
       "      <td>22.3637</td>\n",
       "      <td>34.3939</td>\n",
       "      <td>26.6779</td>\n",
       "      <td>299.8279</td>\n",
       "      <td>12.715445</td>\n",
       "      <td>331.59</td>\n",
       "      <td>0.998872</td>\n",
       "      <td>2.847984</td>\n",
       "      <td>0</td>\n",
       "      <td>34.556286</td>\n",
       "      <td>26.677283</td>\n",
       "      <td>0.000013</td>\n",
       "      <td>3.315900e-07</td>\n",
       "    </tr>\n",
       "    <tr>\n",
       "      <th>8</th>\n",
       "      <td>BB1</td>\n",
       "      <td>TN278</td>\n",
       "      <td>2012-03-01 00:00:00</td>\n",
       "      <td>20.15333</td>\n",
       "      <td>253.995000</td>\n",
       "      <td>2.194</td>\n",
       "      <td>2.194</td>\n",
       "      <td>23.2948</td>\n",
       "      <td>34.6520</td>\n",
       "      <td>24.2857</td>\n",
       "      <td>297.4357</td>\n",
       "      <td>11.453757</td>\n",
       "      <td>325.33</td>\n",
       "      <td>0.999141</td>\n",
       "      <td>6.193055</td>\n",
       "      <td>0</td>\n",
       "      <td>34.815599</td>\n",
       "      <td>24.285235</td>\n",
       "      <td>0.000011</td>\n",
       "      <td>3.253300e-07</td>\n",
       "    </tr>\n",
       "    <tr>\n",
       "      <th>9</th>\n",
       "      <td>BB2</td>\n",
       "      <td>TN278</td>\n",
       "      <td>2012-03-01 00:00:00</td>\n",
       "      <td>16.53333</td>\n",
       "      <td>252.877990</td>\n",
       "      <td>2.311</td>\n",
       "      <td>2.311</td>\n",
       "      <td>21.9760</td>\n",
       "      <td>33.8684</td>\n",
       "      <td>26.6580</td>\n",
       "      <td>299.8080</td>\n",
       "      <td>5.917854</td>\n",
       "      <td>325.33</td>\n",
       "      <td>0.999486</td>\n",
       "      <td>4.771803</td>\n",
       "      <td>0</td>\n",
       "      <td>34.028288</td>\n",
       "      <td>26.657477</td>\n",
       "      <td>0.000006</td>\n",
       "      <td>3.253300e-07</td>\n",
       "    </tr>\n",
       "  </tbody>\n",
       "</table>\n",
       "</div>"
      ],
      "text/plain": [
       "  Station  Cruise                 Date  Latitude [N]  Longitude [E]  \\\n",
       "0     PS2  SR1805          Mar 27 2018      15.76666     255.000333   \n",
       "1     PS3  SR1805          Apr 04 2018      17.68336     257.650000   \n",
       "2      T1  SR1805          Mar 24 2018      12.50774     250.390000   \n",
       "3      T2  SR1805          Mar 25 2018      14.00732     252.499500   \n",
       "4      T3  SR1805          Mar 26 2018      15.11490     254.068333   \n",
       "5      T4  SR1805          Apr 04 2018      16.32997     255.806667   \n",
       "6      T5  SR1805          Apr 04 2018      16.85822     256.554000   \n",
       "7      T6  SR1805  2018-04-01 00:00:00      17.33186     257.191333   \n",
       "8     BB1   TN278  2012-03-01 00:00:00      20.15333     253.995000   \n",
       "9     BB2   TN278  2012-03-01 00:00:00      16.53333     252.877990   \n",
       "\n",
       "   CTD_Pressure [db]  CTD_Depth [m]  Sigma_theta [kg/m3]  Salinity [psu]  \\\n",
       "0              4.237          4.212              21.7962         34.1808   \n",
       "1              2.624          2.608              23.2343         34.5530   \n",
       "2              3.000          2.983              21.2154         33.6533   \n",
       "3              2.667          2.651              21.3333         33.7303   \n",
       "4              3.262          3.243              21.1715         33.7075   \n",
       "5              2.374          2.360              22.2228         34.4564   \n",
       "6              5.762          5.728              22.2092         34.3444   \n",
       "7              2.719          2.703              22.3637         34.3939   \n",
       "8              2.194          2.194              23.2948         34.6520   \n",
       "9              2.311          2.311              21.9760         33.8684   \n",
       "\n",
       "   Temperature [C]  Temperature [K]   N2O [nM]  XN2O [ppb]  \\\n",
       "0          27.9473         301.0973  11.061920      331.00   \n",
       "1          24.2318         297.3818  67.495099      331.59   \n",
       "2          28.5108         301.6608   8.559563      331.00   \n",
       "3          28.3276         301.4776  10.257601      331.00   \n",
       "4          28.7671         301.9171  10.355202      331.00   \n",
       "5          27.2680         300.4180  10.892172      331.59   \n",
       "6          27.0480         300.1980  11.695256      331.59   \n",
       "7          26.6779         299.8279  12.715445      331.59   \n",
       "8          24.2857         297.4357  11.453757      325.33   \n",
       "9          26.6580         299.8080   5.917854      325.33   \n",
       "\n",
       "   monthlymean_SLP [atm]  monthlymean_U10 [m/s]  pref         SA         pt  \\\n",
       "0               0.998813               2.539497     0  34.342173  27.946305   \n",
       "1               0.998999               1.454974     0  34.716142  24.231245   \n",
       "2               0.998801               5.310382     0  33.812175  28.510086   \n",
       "3               0.998914               3.953975     0  33.889528  28.326968   \n",
       "4               0.998905               2.685918     0  33.866629  28.766319   \n",
       "5               0.999047               2.315721     0  34.619066  27.267452   \n",
       "6               0.998872               2.847984     0  34.506566  27.046679   \n",
       "7               0.998872               2.847984     0  34.556286  26.677283   \n",
       "8               0.999141               6.193055     0  34.815599  24.285235   \n",
       "9               0.999486               4.771803     0  34.028288  26.657477   \n",
       "\n",
       "   N2O [mmol/m3]  XN2O [mol/mol]  \n",
       "0       0.000011    3.310000e-07  \n",
       "1       0.000067    3.315900e-07  \n",
       "2       0.000009    3.310000e-07  \n",
       "3       0.000010    3.310000e-07  \n",
       "4       0.000010    3.310000e-07  \n",
       "5       0.000011    3.315900e-07  \n",
       "6       0.000012    3.315900e-07  \n",
       "7       0.000013    3.315900e-07  \n",
       "8       0.000011    3.253300e-07  \n",
       "9       0.000006    3.253300e-07  "
      ]
     },
     "execution_count": 8,
     "metadata": {},
     "output_type": "execute_result"
    }
   ],
   "source": [
    "# read in data\n",
    "data = pd.read_csv(\"exampledata.csv\")\n",
    "\n",
    "# use the gsw library to calculate potential temperature\n",
    "data['pref'] = 0\n",
    "data[\"SA\"] = gsw.SA_from_SP(data['Salinity [psu]'],data['CTD_Pressure [db]'],data['Longitude [E]'],data['Latitude [N]'])\n",
    "data['pt'] = gsw.pt_from_t(data[\"SA\"],data['Temperature [C]'],data['CTD_Pressure [db]'], data['pref'])\n",
    "\n",
    "# convert gas concentration from nM to mmol/m3\n",
    "data['N2O [mmol/m3]'] = data['N2O [nM]']*1e-6\n",
    "\n",
    "# convert atmospheric mixing ratio from ppb to mol/mol\n",
    "data['XN2O [mol/mol]'] = data['XN2O [ppb]']*1e-9\n",
    "\n",
    "# look at data\n",
    "data"
   ]
  },
  {
   "cell_type": "code",
   "execution_count": 9,
   "metadata": {
    "id": "4XzBMbi15NZG"
   },
   "outputs": [],
   "source": [
    "# calculate flux with L13\n",
    "Fd,Fc,Fp = L13(data['N2O [mmol/m3]'],\n",
    "               data['monthlymean_U10 [m/s]'],\n",
    "               data['Salinity [psu]'],\n",
    "               data['pt'],\n",
    "               slp=data['monthlymean_SLP [atm]'],\n",
    "               gas='N2O',\n",
    "               rh=1.0,\n",
    "               chi_atm=data['XN2O [mol/mol]'],\n",
    "               air_temperature=data['pt'],\n",
    "               calculate_schmidtair=True,\n",
    "               return_vars = [\"Fd\",\"Fc\",\"Fp\"])\n",
    "L13flux = (Fd + Fc + Fp)"
   ]
  },
  {
   "cell_type": "code",
   "execution_count": 10,
   "metadata": {
    "id": "VHzbNZh4_8hT"
   },
   "outputs": [],
   "source": [
    "# calculate flux with W14\n",
    "W14flux = fsa(data['N2O [mmol/m3]'],\n",
    "              data['monthlymean_U10 [m/s]'],\n",
    "              data['Salinity [psu]'],\n",
    "              data['pt'],\n",
    "              slp=data['monthlymean_SLP [atm]'],\n",
    "              gas='N2O',param=\"W14\",\n",
    "              rh=1.0,\n",
    "              chi_atm=data['XN2O [mol/mol]'])"
   ]
  },
  {
   "cell_type": "code",
   "execution_count": 11,
   "metadata": {
    "colab": {
     "base_uri": "https://localhost:8080/",
     "height": 655
    },
    "id": "-sTm_TBgAgMf",
    "outputId": "27dbec35-1293-49c2-8b5e-71d44acabf00"
   },
   "outputs": [
    {
     "data": {
      "text/html": [
       "<div>\n",
       "<style scoped>\n",
       "    .dataframe tbody tr th:only-of-type {\n",
       "        vertical-align: middle;\n",
       "    }\n",
       "\n",
       "    .dataframe tbody tr th {\n",
       "        vertical-align: top;\n",
       "    }\n",
       "\n",
       "    .dataframe thead th {\n",
       "        text-align: right;\n",
       "    }\n",
       "</style>\n",
       "<table border=\"1\" class=\"dataframe\">\n",
       "  <thead>\n",
       "    <tr style=\"text-align: right;\">\n",
       "      <th></th>\n",
       "      <th>Station</th>\n",
       "      <th>Cruise</th>\n",
       "      <th>Date</th>\n",
       "      <th>Latitude [N]</th>\n",
       "      <th>Longitude [E]</th>\n",
       "      <th>CTD_Pressure [db]</th>\n",
       "      <th>CTD_Depth [m]</th>\n",
       "      <th>Sigma_theta [kg/m3]</th>\n",
       "      <th>Salinity [psu]</th>\n",
       "      <th>Temperature [C]</th>\n",
       "      <th>...</th>\n",
       "      <th>pref</th>\n",
       "      <th>SA</th>\n",
       "      <th>pt</th>\n",
       "      <th>N2O [mmol/m3]</th>\n",
       "      <th>XN2O [mol/mol]</th>\n",
       "      <th>W14</th>\n",
       "      <th>L13</th>\n",
       "      <th>L13_Fd</th>\n",
       "      <th>L13_Fc</th>\n",
       "      <th>L13_Fp</th>\n",
       "    </tr>\n",
       "  </thead>\n",
       "  <tbody>\n",
       "    <tr>\n",
       "      <th>0</th>\n",
       "      <td>PS2</td>\n",
       "      <td>SR1805</td>\n",
       "      <td>Mar 27 2018</td>\n",
       "      <td>15.76666</td>\n",
       "      <td>255.000333</td>\n",
       "      <td>4.237</td>\n",
       "      <td>4.212</td>\n",
       "      <td>21.7962</td>\n",
       "      <td>34.1808</td>\n",
       "      <td>27.9473</td>\n",
       "      <td>...</td>\n",
       "      <td>0</td>\n",
       "      <td>34.342173</td>\n",
       "      <td>27.946305</td>\n",
       "      <td>0.000011</td>\n",
       "      <td>3.310000e-07</td>\n",
       "      <td>2.271793</td>\n",
       "      <td>5.751659</td>\n",
       "      <td>5.445580</td>\n",
       "      <td>-0.000027</td>\n",
       "      <td>0.306107</td>\n",
       "    </tr>\n",
       "    <tr>\n",
       "      <th>1</th>\n",
       "      <td>PS3</td>\n",
       "      <td>SR1805</td>\n",
       "      <td>Apr 04 2018</td>\n",
       "      <td>17.68336</td>\n",
       "      <td>257.650000</td>\n",
       "      <td>2.624</td>\n",
       "      <td>2.608</td>\n",
       "      <td>23.2343</td>\n",
       "      <td>34.5530</td>\n",
       "      <td>24.2318</td>\n",
       "      <td>...</td>\n",
       "      <td>0</td>\n",
       "      <td>34.716142</td>\n",
       "      <td>24.231245</td>\n",
       "      <td>0.000067</td>\n",
       "      <td>3.315900e-07</td>\n",
       "      <td>8.352519</td>\n",
       "      <td>36.049390</td>\n",
       "      <td>35.317470</td>\n",
       "      <td>-0.000003</td>\n",
       "      <td>0.731924</td>\n",
       "    </tr>\n",
       "    <tr>\n",
       "      <th>2</th>\n",
       "      <td>T1</td>\n",
       "      <td>SR1805</td>\n",
       "      <td>Mar 24 2018</td>\n",
       "      <td>12.50774</td>\n",
       "      <td>250.390000</td>\n",
       "      <td>3.000</td>\n",
       "      <td>2.983</td>\n",
       "      <td>21.2154</td>\n",
       "      <td>33.6533</td>\n",
       "      <td>28.5108</td>\n",
       "      <td>...</td>\n",
       "      <td>0</td>\n",
       "      <td>33.812175</td>\n",
       "      <td>28.510086</td>\n",
       "      <td>0.000009</td>\n",
       "      <td>3.310000e-07</td>\n",
       "      <td>5.148579</td>\n",
       "      <td>7.095073</td>\n",
       "      <td>5.893118</td>\n",
       "      <td>-0.000472</td>\n",
       "      <td>1.202427</td>\n",
       "    </tr>\n",
       "    <tr>\n",
       "      <th>3</th>\n",
       "      <td>T2</td>\n",
       "      <td>SR1805</td>\n",
       "      <td>Mar 25 2018</td>\n",
       "      <td>14.00732</td>\n",
       "      <td>252.499500</td>\n",
       "      <td>2.667</td>\n",
       "      <td>2.651</td>\n",
       "      <td>21.3333</td>\n",
       "      <td>33.7303</td>\n",
       "      <td>28.3276</td>\n",
       "      <td>...</td>\n",
       "      <td>0</td>\n",
       "      <td>33.889528</td>\n",
       "      <td>28.326968</td>\n",
       "      <td>0.000010</td>\n",
       "      <td>3.310000e-07</td>\n",
       "      <td>4.713823</td>\n",
       "      <td>8.138052</td>\n",
       "      <td>7.250536</td>\n",
       "      <td>-0.000152</td>\n",
       "      <td>0.887667</td>\n",
       "    </tr>\n",
       "    <tr>\n",
       "      <th>4</th>\n",
       "      <td>T3</td>\n",
       "      <td>SR1805</td>\n",
       "      <td>Mar 26 2018</td>\n",
       "      <td>15.11490</td>\n",
       "      <td>254.068333</td>\n",
       "      <td>3.262</td>\n",
       "      <td>3.243</td>\n",
       "      <td>21.1715</td>\n",
       "      <td>33.7075</td>\n",
       "      <td>28.7671</td>\n",
       "      <td>...</td>\n",
       "      <td>0</td>\n",
       "      <td>33.866629</td>\n",
       "      <td>28.766319</td>\n",
       "      <td>0.000010</td>\n",
       "      <td>3.310000e-07</td>\n",
       "      <td>2.288536</td>\n",
       "      <td>5.497742</td>\n",
       "      <td>5.175280</td>\n",
       "      <td>-0.000034</td>\n",
       "      <td>0.322496</td>\n",
       "    </tr>\n",
       "    <tr>\n",
       "      <th>5</th>\n",
       "      <td>T4</td>\n",
       "      <td>SR1805</td>\n",
       "      <td>Apr 04 2018</td>\n",
       "      <td>16.32997</td>\n",
       "      <td>255.806667</td>\n",
       "      <td>2.374</td>\n",
       "      <td>2.360</td>\n",
       "      <td>22.2228</td>\n",
       "      <td>34.4564</td>\n",
       "      <td>27.2680</td>\n",
       "      <td>...</td>\n",
       "      <td>0</td>\n",
       "      <td>34.619066</td>\n",
       "      <td>27.267452</td>\n",
       "      <td>0.000011</td>\n",
       "      <td>3.315900e-07</td>\n",
       "      <td>1.748025</td>\n",
       "      <td>4.823357</td>\n",
       "      <td>4.604185</td>\n",
       "      <td>-0.000019</td>\n",
       "      <td>0.219191</td>\n",
       "    </tr>\n",
       "    <tr>\n",
       "      <th>6</th>\n",
       "      <td>T5</td>\n",
       "      <td>SR1805</td>\n",
       "      <td>Apr 04 2018</td>\n",
       "      <td>16.85822</td>\n",
       "      <td>256.554000</td>\n",
       "      <td>5.762</td>\n",
       "      <td>5.728</td>\n",
       "      <td>22.2092</td>\n",
       "      <td>34.3444</td>\n",
       "      <td>27.0480</td>\n",
       "      <td>...</td>\n",
       "      <td>0</td>\n",
       "      <td>34.506566</td>\n",
       "      <td>27.046679</td>\n",
       "      <td>0.000012</td>\n",
       "      <td>3.315900e-07</td>\n",
       "      <td>3.059378</td>\n",
       "      <td>7.004508</td>\n",
       "      <td>6.556079</td>\n",
       "      <td>-0.000043</td>\n",
       "      <td>0.448473</td>\n",
       "    </tr>\n",
       "    <tr>\n",
       "      <th>7</th>\n",
       "      <td>T6</td>\n",
       "      <td>SR1805</td>\n",
       "      <td>2018-04-01 00:00:00</td>\n",
       "      <td>17.33186</td>\n",
       "      <td>257.191333</td>\n",
       "      <td>2.719</td>\n",
       "      <td>2.703</td>\n",
       "      <td>22.3637</td>\n",
       "      <td>34.3939</td>\n",
       "      <td>26.6779</td>\n",
       "      <td>...</td>\n",
       "      <td>0</td>\n",
       "      <td>34.556286</td>\n",
       "      <td>26.677283</td>\n",
       "      <td>0.000013</td>\n",
       "      <td>3.315900e-07</td>\n",
       "      <td>3.566125</td>\n",
       "      <td>8.172482</td>\n",
       "      <td>7.650034</td>\n",
       "      <td>-0.000043</td>\n",
       "      <td>0.522491</td>\n",
       "    </tr>\n",
       "    <tr>\n",
       "      <th>8</th>\n",
       "      <td>BB1</td>\n",
       "      <td>TN278</td>\n",
       "      <td>2012-03-01 00:00:00</td>\n",
       "      <td>20.15333</td>\n",
       "      <td>253.995000</td>\n",
       "      <td>2.194</td>\n",
       "      <td>2.194</td>\n",
       "      <td>23.2948</td>\n",
       "      <td>34.6520</td>\n",
       "      <td>24.2857</td>\n",
       "      <td>...</td>\n",
       "      <td>0</td>\n",
       "      <td>34.815599</td>\n",
       "      <td>24.285235</td>\n",
       "      <td>0.000011</td>\n",
       "      <td>3.253300e-07</td>\n",
       "      <td>11.953990</td>\n",
       "      <td>14.987579</td>\n",
       "      <td>11.873670</td>\n",
       "      <td>-0.000866</td>\n",
       "      <td>3.114775</td>\n",
       "    </tr>\n",
       "    <tr>\n",
       "      <th>9</th>\n",
       "      <td>BB2</td>\n",
       "      <td>TN278</td>\n",
       "      <td>2012-03-01 00:00:00</td>\n",
       "      <td>16.53333</td>\n",
       "      <td>252.877990</td>\n",
       "      <td>2.311</td>\n",
       "      <td>2.311</td>\n",
       "      <td>21.9760</td>\n",
       "      <td>33.8684</td>\n",
       "      <td>26.6580</td>\n",
       "      <td>...</td>\n",
       "      <td>0</td>\n",
       "      <td>34.028288</td>\n",
       "      <td>26.657477</td>\n",
       "      <td>0.000006</td>\n",
       "      <td>3.253300e-07</td>\n",
       "      <td>-0.513714</td>\n",
       "      <td>-0.783665</td>\n",
       "      <td>-0.658091</td>\n",
       "      <td>-0.000312</td>\n",
       "      <td>-0.125262</td>\n",
       "    </tr>\n",
       "  </tbody>\n",
       "</table>\n",
       "<p>10 rows × 25 columns</p>\n",
       "</div>"
      ],
      "text/plain": [
       "  Station  Cruise                 Date  Latitude [N]  Longitude [E]  \\\n",
       "0     PS2  SR1805          Mar 27 2018      15.76666     255.000333   \n",
       "1     PS3  SR1805          Apr 04 2018      17.68336     257.650000   \n",
       "2      T1  SR1805          Mar 24 2018      12.50774     250.390000   \n",
       "3      T2  SR1805          Mar 25 2018      14.00732     252.499500   \n",
       "4      T3  SR1805          Mar 26 2018      15.11490     254.068333   \n",
       "5      T4  SR1805          Apr 04 2018      16.32997     255.806667   \n",
       "6      T5  SR1805          Apr 04 2018      16.85822     256.554000   \n",
       "7      T6  SR1805  2018-04-01 00:00:00      17.33186     257.191333   \n",
       "8     BB1   TN278  2012-03-01 00:00:00      20.15333     253.995000   \n",
       "9     BB2   TN278  2012-03-01 00:00:00      16.53333     252.877990   \n",
       "\n",
       "   CTD_Pressure [db]  CTD_Depth [m]  Sigma_theta [kg/m3]  Salinity [psu]  \\\n",
       "0              4.237          4.212              21.7962         34.1808   \n",
       "1              2.624          2.608              23.2343         34.5530   \n",
       "2              3.000          2.983              21.2154         33.6533   \n",
       "3              2.667          2.651              21.3333         33.7303   \n",
       "4              3.262          3.243              21.1715         33.7075   \n",
       "5              2.374          2.360              22.2228         34.4564   \n",
       "6              5.762          5.728              22.2092         34.3444   \n",
       "7              2.719          2.703              22.3637         34.3939   \n",
       "8              2.194          2.194              23.2948         34.6520   \n",
       "9              2.311          2.311              21.9760         33.8684   \n",
       "\n",
       "   Temperature [C]  ...  pref         SA         pt  N2O [mmol/m3]  \\\n",
       "0          27.9473  ...     0  34.342173  27.946305       0.000011   \n",
       "1          24.2318  ...     0  34.716142  24.231245       0.000067   \n",
       "2          28.5108  ...     0  33.812175  28.510086       0.000009   \n",
       "3          28.3276  ...     0  33.889528  28.326968       0.000010   \n",
       "4          28.7671  ...     0  33.866629  28.766319       0.000010   \n",
       "5          27.2680  ...     0  34.619066  27.267452       0.000011   \n",
       "6          27.0480  ...     0  34.506566  27.046679       0.000012   \n",
       "7          26.6779  ...     0  34.556286  26.677283       0.000013   \n",
       "8          24.2857  ...     0  34.815599  24.285235       0.000011   \n",
       "9          26.6580  ...     0  34.028288  26.657477       0.000006   \n",
       "\n",
       "   XN2O [mol/mol]        W14        L13     L13_Fd    L13_Fc    L13_Fp  \n",
       "0    3.310000e-07   2.271793   5.751659   5.445580 -0.000027  0.306107  \n",
       "1    3.315900e-07   8.352519  36.049390  35.317470 -0.000003  0.731924  \n",
       "2    3.310000e-07   5.148579   7.095073   5.893118 -0.000472  1.202427  \n",
       "3    3.310000e-07   4.713823   8.138052   7.250536 -0.000152  0.887667  \n",
       "4    3.310000e-07   2.288536   5.497742   5.175280 -0.000034  0.322496  \n",
       "5    3.315900e-07   1.748025   4.823357   4.604185 -0.000019  0.219191  \n",
       "6    3.315900e-07   3.059378   7.004508   6.556079 -0.000043  0.448473  \n",
       "7    3.315900e-07   3.566125   8.172482   7.650034 -0.000043  0.522491  \n",
       "8    3.253300e-07  11.953990  14.987579  11.873670 -0.000866  3.114775  \n",
       "9    3.253300e-07  -0.513714  -0.783665  -0.658091 -0.000312 -0.125262  \n",
       "\n",
       "[10 rows x 25 columns]"
      ]
     },
     "execution_count": 11,
     "metadata": {},
     "output_type": "execute_result"
    }
   ],
   "source": [
    "data['W14'] = W14flux*1e6*86400 # convert from mol/m2/s to umol/m2/day\n",
    "data['L13'] = L13flux*-1*1e6*86400 # reverse sign and convert from mol/m2/s to umol/m2/day\n",
    "data['L13_Fd'] = Fd*-1*1e6*86400\n",
    "data['L13_Fc'] = Fc*-1*1e6*86400\n",
    "data['L13_Fp'] = Fp*-1*1e6*86400\n",
    "\n",
    "data"
   ]
  },
  {
   "cell_type": "code",
   "execution_count": null,
   "metadata": {
    "id": "qcDTqYGIA30I"
   },
   "outputs": [],
   "source": []
  }
 ],
 "metadata": {
  "colab": {
   "provenance": []
  },
  "kernelspec": {
   "display_name": "Python 3 (ipykernel)",
   "language": "python",
   "name": "python3"
  },
  "language_info": {
   "codemirror_mode": {
    "name": "ipython",
    "version": 3
   },
   "file_extension": ".py",
   "mimetype": "text/x-python",
   "name": "python",
   "nbconvert_exporter": "python",
   "pygments_lexer": "ipython3",
   "version": "3.10.4"
  }
 },
 "nbformat": 4,
 "nbformat_minor": 1
}
